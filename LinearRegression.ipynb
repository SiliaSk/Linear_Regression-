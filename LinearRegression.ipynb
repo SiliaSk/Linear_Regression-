{
 "cells": [
  {
   "metadata": {},
   "cell_type": "markdown",
   "source": "Import Data and print Data Frame",
   "id": "d0c0268d81b8337f"
  },
  {
   "metadata": {
    "ExecuteTime": {
     "end_time": "2024-12-25T16:02:21.608344Z",
     "start_time": "2024-12-25T16:02:21.443817Z"
    }
   },
   "cell_type": "code",
   "source": [
    "import numpy as np\n",
    "import pandas as pd\n",
    "df = pd.read_csv(\"https://raw.githubusercontent.com/dataprofessor/data/refs/heads/master/delaney_solubility_with_descriptors.csv\")\n",
    "print(f\"df:\\n{df}\")\n",
    "\n",
    "y = df[\"logS\"]\n",
    "print(f\"y:\\n{y}\")\n",
    "X = df.drop(\"logS\", axis = 1)\n",
    "print(f\"Χ:\\n{X}\")"
   ],
   "id": "fd6326af577d53f0",
   "outputs": [
    {
     "name": "stdout",
     "output_type": "stream",
     "text": [
      "df:\n",
      "      MolLogP    MolWt  NumRotatableBonds  AromaticProportion   logS\n",
      "0     2.59540  167.850                0.0            0.000000 -2.180\n",
      "1     2.37650  133.405                0.0            0.000000 -2.000\n",
      "2     2.59380  167.850                1.0            0.000000 -1.740\n",
      "3     2.02890  133.405                1.0            0.000000 -1.480\n",
      "4     2.91890  187.375                1.0            0.000000 -3.040\n",
      "...       ...      ...                ...                 ...    ...\n",
      "1139  1.98820  287.343                8.0            0.000000  1.144\n",
      "1140  3.42130  286.114                2.0            0.333333 -4.925\n",
      "1141  3.60960  308.333                4.0            0.695652 -3.893\n",
      "1142  2.56214  354.815                3.0            0.521739 -3.790\n",
      "1143  2.02164  179.219                1.0            0.461538 -2.581\n",
      "\n",
      "[1144 rows x 5 columns]\n",
      "y:\n",
      "0      -2.180\n",
      "1      -2.000\n",
      "2      -1.740\n",
      "3      -1.480\n",
      "4      -3.040\n",
      "        ...  \n",
      "1139    1.144\n",
      "1140   -4.925\n",
      "1141   -3.893\n",
      "1142   -3.790\n",
      "1143   -2.581\n",
      "Name: logS, Length: 1144, dtype: float64\n",
      "Χ:\n",
      "      MolLogP    MolWt  NumRotatableBonds  AromaticProportion\n",
      "0     2.59540  167.850                0.0            0.000000\n",
      "1     2.37650  133.405                0.0            0.000000\n",
      "2     2.59380  167.850                1.0            0.000000\n",
      "3     2.02890  133.405                1.0            0.000000\n",
      "4     2.91890  187.375                1.0            0.000000\n",
      "...       ...      ...                ...                 ...\n",
      "1139  1.98820  287.343                8.0            0.000000\n",
      "1140  3.42130  286.114                2.0            0.333333\n",
      "1141  3.60960  308.333                4.0            0.695652\n",
      "1142  2.56214  354.815                3.0            0.521739\n",
      "1143  2.02164  179.219                1.0            0.461538\n",
      "\n",
      "[1144 rows x 4 columns]\n"
     ]
    }
   ],
   "execution_count": 9
  },
  {
   "metadata": {},
   "cell_type": "markdown",
   "source": "Split the Data set",
   "id": "9fd18152852748c3"
  },
  {
   "metadata": {
    "ExecuteTime": {
     "end_time": "2024-12-25T16:02:25.602167Z",
     "start_time": "2024-12-25T16:02:21.747796Z"
    }
   },
   "cell_type": "code",
   "source": [
    "from sklearn.model_selection import train_test_split\n",
    "X_train, X_test, y_train, y_test = train_test_split(X, y, test_size=0.2, random_state=100)\n",
    "print(f\"X_train:\\n{X_train}\")\n",
    "print(f\"X_test:\\n{X_test}\")"
   ],
   "id": "9c45918d19f00609",
   "outputs": [
    {
     "name": "stdout",
     "output_type": "stream",
     "text": [
      "X_train:\n",
      "     MolLogP    MolWt  NumRotatableBonds  AromaticProportion\n",
      "107  3.14280  112.216                5.0            0.000000\n",
      "378 -2.07850  142.070                0.0            0.000000\n",
      "529 -0.47730  168.152                0.0            0.000000\n",
      "546 -0.86740  154.125                0.0            0.000000\n",
      "320  1.62150  100.161                2.0            0.000000\n",
      "..       ...      ...                ...                 ...\n",
      "802  3.00254  250.301                1.0            0.842105\n",
      "53   2.13860   82.146                3.0            0.000000\n",
      "350  5.76304  256.348                0.0            0.900000\n",
      "79   3.89960  186.339               10.0            0.000000\n",
      "792  2.52334  310.297                3.0            0.300000\n",
      "\n",
      "[915 rows x 4 columns]\n",
      "X_test:\n",
      "      MolLogP    MolWt  NumRotatableBonds  AromaticProportion\n",
      "822   2.91000  172.268                7.0            0.000000\n",
      "118   7.27400  360.882                1.0            0.666667\n",
      "347   1.94040  145.161                0.0            0.909091\n",
      "1123  1.98640  119.378                0.0            0.000000\n",
      "924   1.70062  108.140                0.0            0.750000\n",
      "...       ...      ...                ...                 ...\n",
      "1114  1.76210  478.513                4.0            0.000000\n",
      "427   6.32820  276.338                0.0            1.000000\n",
      "711   0.04430  218.205                5.0            0.000000\n",
      "4     2.91890  187.375                1.0            0.000000\n",
      "948   3.56010  318.328                2.0            0.750000\n",
      "\n",
      "[229 rows x 4 columns]\n"
     ]
    }
   ],
   "execution_count": 10
  },
  {
   "metadata": {},
   "cell_type": "markdown",
   "source": "Build and train the model",
   "id": "54a9906afd027b59"
  },
  {
   "metadata": {},
   "cell_type": "code",
   "outputs": [],
   "execution_count": null,
   "source": [
    "from sklearn.linear_model import LinearRegression\n",
    "lr = LinearRegression()\n",
    "lr.fit(X_train, y_train)\n",
    "LinearRegression()\n",
    "y_lr_train_pred = lr.predict(X_train)\n",
    "y_lr_test_pred = lr.predict(X_test)\n",
    "print(y_lr_train_pred, y_lr_test_pred)\n",
    "print(f\"y_lr_train_pred:\\n{y_lr_train_pred}\")\n",
    "\n",
    "print(f\"y_lr_test_pred:\\n{y_lr_test_pred}\")\n",
    "\n",
    "print(f\"y_train:\\n{y_train}\")\n",
    "\n",
    "\n",
    "print(f\"y_lr_train_pred:\\n{y_lr_train_pred}\")"
   ],
   "id": "504458480371f2cc"
  },
  {
   "metadata": {},
   "cell_type": "markdown",
   "source": "Calculate MSE and R2 for both training and test sets",
   "id": "b4bff147b34e118d"
  },
  {
   "metadata": {},
   "cell_type": "code",
   "outputs": [],
   "execution_count": null,
   "source": [
    "from sklearn.metrics import mean_squared_error, r2_score\n",
    "lr_train_mse = mean_squared_error(y_train, y_lr_train_pred)\n",
    "lr_train_r2 = r2_score(y_train, y_lr_train_pred)\n",
    "lr_test_mse = mean_squared_error(y_test, y_lr_test_pred)\n",
    "lr_test_r2 = r2_score(y_test, y_lr_test_pred)\n",
    "\n",
    "print('LR MSE (Train): ', lr_train_mse)\n",
    "\n",
    "print('LR R2 (Train): ', lr_train_r2)\n",
    "\n",
    "print('LR MSE (Test): ', lr_test_mse)\n",
    "\n",
    "print('LR R2 (Test): ', lr_test_r2)\n"
   ],
   "id": "8e75a6805064ea49"
  },
  {
   "metadata": {},
   "cell_type": "markdown",
   "source": "Print the results as a matrix-like DataFrame",
   "id": "daadc348fd6a164e"
  },
  {
   "metadata": {},
   "cell_type": "code",
   "outputs": [],
   "execution_count": null,
   "source": [
    "lr_results = pd.DataFrame(['Linear Regression', lr_train_mse, lr_train_r2, lr_test_mse, lr_test_r2]).transpose()\n",
    "lr_results.columns = [ 'Method', 'Training MSE', 'Training R2', 'Test MSE', 'Test R2' ]\n",
    "print(lr_results)\n"
   ],
   "id": "74d0919a88ebda19"
  },
  {
   "metadata": {},
   "cell_type": "markdown",
   "source": "Build and train a new ML Model (Random Forest)",
   "id": "de8c9db410e9656b"
  },
  {
   "metadata": {},
   "cell_type": "code",
   "outputs": [],
   "execution_count": null,
   "source": [
    "from sklearn.ensemble import RandomForestRegressor\n",
    "rf = RandomForestRegressor(max_depth = 2, random_state = 100)\n",
    "rf.fit(X_train, y_train)\n",
    "y_rf_train_pred = rf.predict(X_train)\n",
    "y_rf_test_pred = rf.predict(X_test)"
   ],
   "id": "71fbb5993f302ca9"
  },
  {
   "metadata": {},
   "cell_type": "markdown",
   "source": "Calculate the new values for MSE and R2",
   "id": "62978ba9f476611"
  },
  {
   "metadata": {},
   "cell_type": "code",
   "outputs": [],
   "execution_count": null,
   "source": [
    "from sklearn.metrics import mean_squared_error, r2_score\n",
    "rf_train_mse = mean_squared_error(y_train, y_rf_train_pred)\n",
    "rf_train_r2 = r2_score(y_train, y_rf_train_pred)\n",
    "\n",
    "rf_test_mse = mean_squared_error(y_test, y_rf_test_pred)\n",
    "rf_test_r2 = r2_score(y_test, y_rf_test_pred)\n"
   ],
   "id": "ff6509a8a1e08c42"
  },
  {
   "metadata": {},
   "cell_type": "markdown",
   "source": "Print the results as a matrix-like DataFrame",
   "id": "dd49970fade2d9c8"
  },
  {
   "metadata": {},
   "cell_type": "code",
   "outputs": [],
   "execution_count": null,
   "source": [
    "rf_results = pd.DataFrame(['Random Forest', rf_train_mse, rf_train_r2, rf_test_mse, rf_test_r2]).transpose()\n",
    "rf_results.columns = [ 'Method', 'Training MSE', 'Training R2', 'Test MSE', 'Test R2' ]\n",
    "print(rf_results)\n"
   ],
   "id": "8b714625f154880d"
  },
  {
   "metadata": {},
   "cell_type": "markdown",
   "source": "Comparison of the 2 models",
   "id": "3aa7163cf6b0a6f6"
  },
  {
   "metadata": {},
   "cell_type": "code",
   "outputs": [],
   "execution_count": null,
   "source": [
    "df_models = pd.concat([rf_results, lr_results], axis=0)\n",
    "print(df_models)\n"
   ],
   "id": "c9de59712768c3b8"
  },
  {
   "metadata": {},
   "cell_type": "markdown",
   "source": "Linear Regression has the smallest MSE value and the largest R2 score so it performs better than RandomForest Model.",
   "id": "74fe0d11e8e171a1"
  },
  {
   "metadata": {},
   "cell_type": "markdown",
   "source": "Then, we will visualize the relationship between the actual and predicted values for the training set of the Linear Regression model.",
   "id": "19569d30e9e8faed"
  },
  {
   "metadata": {},
   "cell_type": "code",
   "outputs": [],
   "execution_count": null,
   "source": [
    "import matplotlib.pyplot as plt\n",
    "plt.figure(figsize = (5,5))\n",
    "plt.scatter(x=y_train, y=y_lr_train_pred, color= 'green', alpha=0.3)\n",
    "\n",
    "z= np.poly1d(np.polyfit(y_train, y_lr_train_pred, 1))\n",
    "\n",
    "plt.plot(y_train, z(y_train), color='purple')\n",
    "plt.ylabel('Predict LogS')\n",
    "plt.xlabel('Experimental LogS')\n",
    "\n",
    "plt.show()\n"
   ],
   "id": "fa9ef7382ae94c79"
  }
 ],
 "metadata": {
  "kernelspec": {
   "display_name": "Python 3",
   "language": "python",
   "name": "python3"
  },
  "language_info": {
   "codemirror_mode": {
    "name": "ipython",
    "version": 2
   },
   "file_extension": ".py",
   "mimetype": "text/x-python",
   "name": "python",
   "nbconvert_exporter": "python",
   "pygments_lexer": "ipython2",
   "version": "2.7.6"
  }
 },
 "nbformat": 4,
 "nbformat_minor": 5
}
